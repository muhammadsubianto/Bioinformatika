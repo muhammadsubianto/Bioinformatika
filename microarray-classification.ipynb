{
 "cells": [
  {
   "cell_type": "markdown",
   "metadata": {},
   "source": [
    "# Microarray Classifying"
   ]
  },
  {
   "cell_type": "code",
   "execution_count": null,
   "metadata": {},
   "outputs": [],
   "source": [
    "# To make sure all of the correct libraries are installed, import each module and print the version number\n",
    "# Check versions of the libraries\n",
    "import sys\n",
    "import scipy\n",
    "import numpy\n",
    "import matplotlib\n",
    "import pandas\n",
    "import sklearn\n",
    "import skrebate\n",
    "\n",
    "print('Python:     {}'.format(sys.version))\n",
    "print('scipy:      {}'.format(scipy.__version__))\n",
    "print('numpy:      {}'.format(numpy.__version__))\n",
    "print('matplotlib: {}'.format(matplotlib.__version__))\n",
    "print('pandas:     {}'.format(pandas.__version__))\n",
    "print('sklearn:    {}'.format(sklearn.__version__))\n",
    "print('skrebate:   {}'.format(skrebate.__version__))"
   ]
  },
  {
   "cell_type": "code",
   "execution_count": null,
   "metadata": {},
   "outputs": [],
   "source": [
    "# Import, change module names\n",
    "import pandas as pd\n",
    "import numpy as np\n",
    "import matplotlib.pyplot as plt\n",
    "import sys\n",
    "import time\n",
    "from sklearn.pipeline import make_pipeline\n",
    "from skrebate import ReliefF\n",
    "from sklearn.ensemble import RandomForestClassifier\n",
    "from sklearn.model_selection import cross_val_score, train_test_split, LeaveOneOut, KFold, StratifiedKFold\n",
    "from sklearn.linear_model import Lasso\n",
    "from sklearn import preprocessing\n",
    "from sklearn.svm import LinearSVC"
   ]
  },
  {
   "cell_type": "code",
   "execution_count": null,
   "metadata": {},
   "outputs": [],
   "source": [
    "# Dataset            Disease          Samples  Features  Classes\n",
    "# Alon (1999)        Colon Caner       62       2000     2\n",
    "# Burcyznski (2006)  Crohn’s Disease  127      22283     3\n",
    "# Golub (1999)       Leukemia          72       7129     2\n",
    "\n",
    "# Alon, U., Barkai, N., Notterman, D. A., Gish, K., Ybarra, S., Mack, D., & Levine, A. J. (1999). \n",
    "# Broad patterns of gene expression revealed by clustering analysis of tumor and normal colon tissues probed by oligonucleotide arrays. \n",
    "# Proceedings of the National Academy of Sciences, 96(12), 6745-6750.\n",
    "\n",
    "# Burczynski, M. E., Peterson, R. L., Twine, N. C., Zuberek, K. A., Brodeur, B. J., Casciotti, L., ... & Spinelli, W. (2006). \n",
    "# Molecular classification of Crohn’s disease and ulcerative colitis patients using transcriptional profiles in peripheral blood mononuclear cells. \n",
    "# The journal of molecular diagnostics, 8(1), 51-61.\n",
    "\n",
    "# Golub, T. R., Slonim, D. K., Tamayo, P., Huard, C., Gaasenbeek, M., Mesirov, J. P., ... & Bloomfield, C. D. (1999). \n",
    "# Molecular classification of cancer: class discovery and class prediction by gene expression monitoring. \n",
    "# Science, 286(5439), 531-537\n",
    "\n",
    "# Data = ['alon', 'burczynski', 'golub']\n",
    "name = \"alon\"\n",
    "type = \"lasso\"\n",
    "\n",
    "# Import data\n",
    "features = pd.read_csv('data/' + name + '_inputs.csv', header = None)\n",
    "labels = pd.read_csv('data/' + name + '_outputs.csv', header = None)"
   ]
  },
  {
   "cell_type": "code",
   "execution_count": null,
   "metadata": {},
   "outputs": [],
   "source": [
    "features.fillna(0, inplace = True)\n",
    "\n",
    "features = np.asarray(features.values)\n",
    "print(features)\n",
    "labels = np.transpose(np.asarray(labels.values.ravel() - 1, dtype=int))\n",
    "print(labels)"
   ]
  },
  {
   "cell_type": "code",
   "execution_count": null,
   "metadata": {},
   "outputs": [],
   "source": [
    "min_max_scaler = preprocessing.MinMaxScaler()\n",
    "features = min_max_scaler.fit_transform(features)"
   ]
  },
  {
   "cell_type": "markdown",
   "metadata": {},
   "source": [
    "## Lasso"
   ]
  },
  {
   "cell_type": "code",
   "execution_count": null,
   "metadata": {},
   "outputs": [],
   "source": [
    "lasso = Lasso(alpha=0.001)\n",
    "lasso.fit(features, labels)\n",
    "indexes = np.asarray(np.where(lasso.coef_ != 0))\n",
    "np.savetxt('features/' + name + '_lasso.txt', lasso.coef_)"
   ]
  },
  {
   "cell_type": "markdown",
   "metadata": {},
   "source": [
    "## Relief"
   ]
  },
  {
   "cell_type": "code",
   "execution_count": null,
   "metadata": {},
   "outputs": [],
   "source": [
    "fs = ReliefF()\n",
    "fs.fit(features, labels)\n",
    "np.savetxt('features/' + name + '_relieff.txt', fs.feature_importances_)"
   ]
  },
  {
   "cell_type": "code",
   "execution_count": null,
   "metadata": {},
   "outputs": [],
   "source": [
    "# type lasso or relief\n",
    "if type == 'lasso':\n",
    "    gains = np.asarray(np.loadtxt('features/' + name + '_lasso.txt'))\n",
    "    indexes = np.where(gains != 0)[0]\n",
    "else:\n",
    "    gains = np.asarray(np.loadtxt('features/' + name + '_lasso.txt'))\n",
    "    indexes = np.where(gains != 0)[0]\n",
    "    gains = np.asarray(np.loadtxt('features/' + name + '_relieff.txt')) \n",
    "    indexes = gains.argsort()[-indexes.shape[0]:][::-1]"
   ]
  },
  {
   "cell_type": "code",
   "execution_count": null,
   "metadata": {},
   "outputs": [],
   "source": [
    "scores = []\n",
    "loo = LeaveOneOut()\n",
    "startTime = time.time()\n",
    "\n",
    "for train_index, test_index in loo.split(features):\n",
    "    x_train, x_test = features[train_index], features[test_index]\n",
    "    y_train, y_test = labels[train_index], labels[test_index]\n",
    "\n",
    "    X_train = x_train[:, indexes]\n",
    "    X_test = x_test[:, indexes]\n",
    "    Y_train = y_train[:]\n",
    "    Y_test = y_test[:]\n",
    "\n",
    "    batch_size = 1\n",
    "    num_classes = np.max(labels) + 1\n",
    "    epochs = 50\n",
    "\n",
    "    X_train = X_train.astype('float32')\n",
    "    X_test = X_test.astype('float32')\n",
    "    Y_train = Y_train[:]\n",
    "    Y_test = Y_test[:]\n",
    "\n",
    "    clf = LinearSVC(random_state=0)\n",
    "\n",
    "    clf.fit(X_train, Y_train)\n",
    "    score = clf.score(X_test, Y_test)\n",
    "\n",
    "    scores.append(score)\n",
    "\n",
    "endTime = time.time()"
   ]
  },
  {
   "cell_type": "code",
   "execution_count": null,
   "metadata": {},
   "outputs": [],
   "source": [
    "with open('results/' + name + '_svm_' + type + '.txt', 'w') as file:\n",
    "    file.write('Score: ' + str(np.average(scores)) + '\\n')\n",
    "    file.write('Time: ' + str(endTime - startTime))\n",
    "    file.close()"
   ]
  },
  {
   "cell_type": "code",
   "execution_count": null,
   "metadata": {},
   "outputs": [],
   "source": [
    "print('Score: ' + str(np.average(scores)))\n",
    "print('Time: ' + str(endTime - startTime))"
   ]
  }
 ],
 "metadata": {
  "kernelspec": {
   "display_name": "Python 3 (ipykernel)",
   "language": "python",
   "name": "python3"
  },
  "language_info": {
   "codemirror_mode": {
    "name": "ipython",
    "version": 3
   },
   "file_extension": ".py",
   "mimetype": "text/x-python",
   "name": "python",
   "nbconvert_exporter": "python",
   "pygments_lexer": "ipython3",
   "version": "3.9.7"
  }
 },
 "nbformat": 4,
 "nbformat_minor": 4
}
